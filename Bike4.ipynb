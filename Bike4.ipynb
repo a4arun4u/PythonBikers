{
 "cells": [
  {
   "cell_type": "code",
   "execution_count": 17,
   "metadata": {
    "collapsed": true
   },
   "outputs": [],
   "source": [
    "import pandas as pd\n",
    "import numpy as np\n",
    "import matplotlib.pyplot as plt\n",
    "import seaborn as sns\n",
    "\n",
    "%matplotlib inline"
   ]
  },
  {
   "cell_type": "code",
   "execution_count": 5,
   "metadata": {
    "collapsed": false
   },
   "outputs": [
    {
     "data": {
      "text/html": [
       "<div>\n",
       "<table border=\"1\" class=\"dataframe\">\n",
       "  <thead>\n",
       "    <tr style=\"text-align: right;\">\n",
       "      <th></th>\n",
       "      <th>startday</th>\n",
       "      <th>starthour</th>\n",
       "      <th>from_station_id</th>\n",
       "      <th>num_trips</th>\n",
       "      <th>from_station_name</th>\n",
       "      <th>from_station_latitude</th>\n",
       "      <th>from_station_longitude</th>\n",
       "    </tr>\n",
       "  </thead>\n",
       "  <tbody>\n",
       "    <tr>\n",
       "      <th>0</th>\n",
       "      <td>2013-08-05</td>\n",
       "      <td>16</td>\n",
       "      <td>35</td>\n",
       "      <td>11</td>\n",
       "      <td>Streeter Dr &amp; Grand Ave</td>\n",
       "      <td>41.892278</td>\n",
       "      <td>-87.612043</td>\n",
       "    </tr>\n",
       "    <tr>\n",
       "      <th>1</th>\n",
       "      <td>2013-08-05</td>\n",
       "      <td>17</td>\n",
       "      <td>35</td>\n",
       "      <td>9</td>\n",
       "      <td>Streeter Dr &amp; Grand Ave</td>\n",
       "      <td>41.892278</td>\n",
       "      <td>-87.612043</td>\n",
       "    </tr>\n",
       "    <tr>\n",
       "      <th>2</th>\n",
       "      <td>2013-08-05</td>\n",
       "      <td>18</td>\n",
       "      <td>35</td>\n",
       "      <td>6</td>\n",
       "      <td>Streeter Dr &amp; Grand Ave</td>\n",
       "      <td>41.892278</td>\n",
       "      <td>-87.612043</td>\n",
       "    </tr>\n",
       "    <tr>\n",
       "      <th>3</th>\n",
       "      <td>2013-08-05</td>\n",
       "      <td>19</td>\n",
       "      <td>35</td>\n",
       "      <td>12</td>\n",
       "      <td>Streeter Dr &amp; Grand Ave</td>\n",
       "      <td>41.892278</td>\n",
       "      <td>-87.612043</td>\n",
       "    </tr>\n",
       "    <tr>\n",
       "      <th>4</th>\n",
       "      <td>2013-08-05</td>\n",
       "      <td>20</td>\n",
       "      <td>35</td>\n",
       "      <td>4</td>\n",
       "      <td>Streeter Dr &amp; Grand Ave</td>\n",
       "      <td>41.892278</td>\n",
       "      <td>-87.612043</td>\n",
       "    </tr>\n",
       "  </tbody>\n",
       "</table>\n",
       "</div>"
      ],
      "text/plain": [
       "     startday  starthour  from_station_id  num_trips        from_station_name  \\\n",
       "0  2013-08-05         16               35         11  Streeter Dr & Grand Ave   \n",
       "1  2013-08-05         17               35          9  Streeter Dr & Grand Ave   \n",
       "2  2013-08-05         18               35          6  Streeter Dr & Grand Ave   \n",
       "3  2013-08-05         19               35         12  Streeter Dr & Grand Ave   \n",
       "4  2013-08-05         20               35          4  Streeter Dr & Grand Ave   \n",
       "\n",
       "   from_station_latitude  from_station_longitude  \n",
       "0              41.892278              -87.612043  \n",
       "1              41.892278              -87.612043  \n",
       "2              41.892278              -87.612043  \n",
       "3              41.892278              -87.612043  \n",
       "4              41.892278              -87.612043  "
      ]
     },
     "execution_count": 5,
     "metadata": {},
     "output_type": "execute_result"
    }
   ],
   "source": [
    "hourly = pd.read_csv(\"C:\\\\Users\\\\arun.bhardwaj\\\\Desktop\\\\MyOrdner\\\\DALab\\\\hourly_station35.csv\")\n",
    "hourly.head()"
   ]
  },
  {
   "cell_type": "code",
   "execution_count": 7,
   "metadata": {
    "collapsed": false
   },
   "outputs": [
    {
     "data": {
      "text/plain": [
       "startday                  datetime64[ns]\n",
       "starthour                          int64\n",
       "from_station_id                    int64\n",
       "num_trips                          int64\n",
       "from_station_name                 object\n",
       "from_station_latitude            float64\n",
       "from_station_longitude           float64\n",
       "dtype: object"
      ]
     },
     "execution_count": 7,
     "metadata": {},
     "output_type": "execute_result"
    }
   ],
   "source": [
    "#any null value?\n",
    "hourly.isnull().sum()\n",
    "hourly.startday =  pd.to_datetime(hourly.startday, errors=\"coerce\")\n",
    "hourly.dtypes"
   ]
  },
  {
   "cell_type": "code",
   "execution_count": 8,
   "metadata": {
    "collapsed": false
   },
   "outputs": [
    {
     "data": {
      "text/html": [
       "<div>\n",
       "<table border=\"1\" class=\"dataframe\">\n",
       "  <thead>\n",
       "    <tr style=\"text-align: right;\">\n",
       "      <th></th>\n",
       "      <th>startday</th>\n",
       "      <th>starthour</th>\n",
       "      <th>from_station_id</th>\n",
       "      <th>num_trips</th>\n",
       "      <th>from_station_name</th>\n",
       "      <th>from_station_latitude</th>\n",
       "      <th>from_station_longitude</th>\n",
       "      <th>day</th>\n",
       "      <th>month</th>\n",
       "      <th>year</th>\n",
       "      <th>day_name</th>\n",
       "      <th>tripdate</th>\n",
       "    </tr>\n",
       "  </thead>\n",
       "  <tbody>\n",
       "    <tr>\n",
       "      <th>0</th>\n",
       "      <td>2013-08-05</td>\n",
       "      <td>16</td>\n",
       "      <td>35</td>\n",
       "      <td>11</td>\n",
       "      <td>Streeter Dr &amp; Grand Ave</td>\n",
       "      <td>41.892278</td>\n",
       "      <td>-87.612043</td>\n",
       "      <td>0</td>\n",
       "      <td>8</td>\n",
       "      <td>2013</td>\n",
       "      <td>0</td>\n",
       "      <td>5</td>\n",
       "    </tr>\n",
       "    <tr>\n",
       "      <th>1</th>\n",
       "      <td>2013-08-05</td>\n",
       "      <td>17</td>\n",
       "      <td>35</td>\n",
       "      <td>9</td>\n",
       "      <td>Streeter Dr &amp; Grand Ave</td>\n",
       "      <td>41.892278</td>\n",
       "      <td>-87.612043</td>\n",
       "      <td>0</td>\n",
       "      <td>8</td>\n",
       "      <td>2013</td>\n",
       "      <td>0</td>\n",
       "      <td>5</td>\n",
       "    </tr>\n",
       "    <tr>\n",
       "      <th>2</th>\n",
       "      <td>2013-08-05</td>\n",
       "      <td>18</td>\n",
       "      <td>35</td>\n",
       "      <td>6</td>\n",
       "      <td>Streeter Dr &amp; Grand Ave</td>\n",
       "      <td>41.892278</td>\n",
       "      <td>-87.612043</td>\n",
       "      <td>0</td>\n",
       "      <td>8</td>\n",
       "      <td>2013</td>\n",
       "      <td>0</td>\n",
       "      <td>5</td>\n",
       "    </tr>\n",
       "    <tr>\n",
       "      <th>3</th>\n",
       "      <td>2013-08-05</td>\n",
       "      <td>19</td>\n",
       "      <td>35</td>\n",
       "      <td>12</td>\n",
       "      <td>Streeter Dr &amp; Grand Ave</td>\n",
       "      <td>41.892278</td>\n",
       "      <td>-87.612043</td>\n",
       "      <td>0</td>\n",
       "      <td>8</td>\n",
       "      <td>2013</td>\n",
       "      <td>0</td>\n",
       "      <td>5</td>\n",
       "    </tr>\n",
       "    <tr>\n",
       "      <th>4</th>\n",
       "      <td>2013-08-05</td>\n",
       "      <td>20</td>\n",
       "      <td>35</td>\n",
       "      <td>4</td>\n",
       "      <td>Streeter Dr &amp; Grand Ave</td>\n",
       "      <td>41.892278</td>\n",
       "      <td>-87.612043</td>\n",
       "      <td>0</td>\n",
       "      <td>8</td>\n",
       "      <td>2013</td>\n",
       "      <td>0</td>\n",
       "      <td>5</td>\n",
       "    </tr>\n",
       "  </tbody>\n",
       "</table>\n",
       "</div>"
      ],
      "text/plain": [
       "    startday  starthour  from_station_id  num_trips        from_station_name  \\\n",
       "0 2013-08-05         16               35         11  Streeter Dr & Grand Ave   \n",
       "1 2013-08-05         17               35          9  Streeter Dr & Grand Ave   \n",
       "2 2013-08-05         18               35          6  Streeter Dr & Grand Ave   \n",
       "3 2013-08-05         19               35         12  Streeter Dr & Grand Ave   \n",
       "4 2013-08-05         20               35          4  Streeter Dr & Grand Ave   \n",
       "\n",
       "   from_station_latitude  from_station_longitude  day  month  year  day_name  \\\n",
       "0              41.892278              -87.612043    0      8  2013         0   \n",
       "1              41.892278              -87.612043    0      8  2013         0   \n",
       "2              41.892278              -87.612043    0      8  2013         0   \n",
       "3              41.892278              -87.612043    0      8  2013         0   \n",
       "4              41.892278              -87.612043    0      8  2013         0   \n",
       "\n",
       "   tripdate  \n",
       "0         5  \n",
       "1         5  \n",
       "2         5  \n",
       "3         5  \n",
       "4         5  "
      ]
     },
     "execution_count": 8,
     "metadata": {},
     "output_type": "execute_result"
    }
   ],
   "source": [
    "#feature engineering\n",
    "#Dervice weekday and weekend\n",
    "#convert column data into appropriate\n",
    "dateTimeIndex = pd.DatetimeIndex(hourly['startday'])\n",
    "hourly[\"day\"] = dateTimeIndex.dayofweek\n",
    "hourly[\"month\"] = dateTimeIndex.month\n",
    "hourly['year']= dateTimeIndex.year\n",
    "hourly[\"day_name\"] = dateTimeIndex.dayofweek\n",
    "hourly[\"tripdate\"] = dateTimeIndex.day\n",
    "\n",
    "hourly.head()"
   ]
  },
  {
   "cell_type": "code",
   "execution_count": 9,
   "metadata": {
    "collapsed": true
   },
   "outputs": [],
   "source": [
    "#define weekday\n",
    "weekday_name = [\"Monday\", \"Tuesday\", \"Wednesday\", \"Thursday\", \"Friday\", \"Saturday\", \"Sunday\"]\n",
    "weekday_dict = {key: weekday_name[key] for key in range(7)}\n",
    "\n",
    "def day_of_week(idx):\n",
    "    return weekday_dict[idx]\n",
    "hourly.day_name = hourly.day_name.apply(day_of_week)\n"
   ]
  },
  {
   "cell_type": "code",
   "execution_count": 10,
   "metadata": {
    "collapsed": true
   },
   "outputs": [],
   "source": [
    "#function to define seasons\n",
    "def date2season(df):\n",
    "    #dateTimeIndex = pd.DatetimeIndex(df)\n",
    "  \n",
    "    md = df.month * 100 + df.day\n",
    "\n",
    "    if (md > 320 and md < 621):\n",
    "        s = 0    #Spring\n",
    "    elif (md > 620 and md < 923):\n",
    "        s = 1   #Summer\n",
    "    elif (md > 922 and md < 1223):\n",
    "        s = 2   #Fall\n",
    "    else:\n",
    "        s = 3   #Winter\n",
    "\n",
    "        '''\n",
    "    if hemisphere != 'north':\n",
    "        if s < 2:\n",
    "            s += 2 \n",
    "        else:\n",
    "            s -= 2\n",
    "        '''\n",
    "    return s\n",
    "\n",
    "d1 = hourly.startday.apply(date2season)\n",
    "hourly[\"season\"] = d1\n"
   ]
  },
  {
   "cell_type": "code",
   "execution_count": 11,
   "metadata": {
    "collapsed": true
   },
   "outputs": [],
   "source": [
    "#define weekday\n",
    "seasons = [\"Spring\", \"Summer\", \"Fall\", \"Winter\"]\n",
    "season_dict = {key: seasons[key] for key in range(4)}\n",
    "\n",
    "def season_name(idx):\n",
    "    return season_dict[idx]\n",
    "\n",
    "hourly[\"seasons_name\"] = hourly.season.apply(season_name)\n"
   ]
  },
  {
   "cell_type": "code",
   "execution_count": 13,
   "metadata": {
    "collapsed": false
   },
   "outputs": [],
   "source": [
    "#Finding hoildays\n",
    "#pip install holidays\n",
    "#package holidays 0.8.1\n",
    "\n",
    "import holidays as hh\n",
    "holidaysArr = []\n",
    "\n",
    "for x in (2013, 2014, 2015, 2016, 2017):\n",
    "    for date, name in sorted(hh.US(state='IL', years=x).items()):\n",
    "        holidaysArr.append(date)\n",
    "\n",
    "holidays_US = pd.DatetimeIndex(holidaysArr)\n",
    "\n",
    "def USHolidays(startday):\n",
    "    dt = pd.to_datetime(startday)\n",
    "    i = 0\n",
    "    if dt in holidays_US :\n",
    "        i = 1    #holiday\n",
    "    \n",
    "    return i\n",
    "\n",
    "h1 = hourly.startday.apply(USHolidays)"
   ]
  },
  {
   "cell_type": "code",
   "execution_count": 16,
   "metadata": {
    "collapsed": false
   },
   "outputs": [
    {
     "data": {
      "text/plain": [
       "533"
      ]
     },
     "execution_count": 16,
     "metadata": {},
     "output_type": "execute_result"
    }
   ],
   "source": [
    "hourly[\"IsHoliday\"] = h1\n",
    "h1[h1==1].count()"
   ]
  },
  {
   "cell_type": "code",
   "execution_count": 18,
   "metadata": {
    "collapsed": false
   },
   "outputs": [
    {
     "data": {
      "text/html": [
       "<div>\n",
       "<table border=\"1\" class=\"dataframe\">\n",
       "  <thead>\n",
       "    <tr style=\"text-align: right;\">\n",
       "      <th></th>\n",
       "      <th>startday</th>\n",
       "      <th>starthour</th>\n",
       "      <th>from_station_id</th>\n",
       "      <th>num_trips</th>\n",
       "      <th>from_station_name</th>\n",
       "      <th>from_station_latitude</th>\n",
       "      <th>from_station_longitude</th>\n",
       "      <th>day</th>\n",
       "      <th>month</th>\n",
       "      <th>year</th>\n",
       "      <th>day_name</th>\n",
       "      <th>tripdate</th>\n",
       "      <th>season</th>\n",
       "      <th>seasons_name</th>\n",
       "      <th>IsHoliday</th>\n",
       "      <th>weather</th>\n",
       "      <th>humidity</th>\n",
       "      <th>temperature</th>\n",
       "    </tr>\n",
       "  </thead>\n",
       "  <tbody>\n",
       "    <tr>\n",
       "      <th>0</th>\n",
       "      <td>2013-08-05</td>\n",
       "      <td>16</td>\n",
       "      <td>35</td>\n",
       "      <td>11</td>\n",
       "      <td>Streeter Dr &amp; Grand Ave</td>\n",
       "      <td>41.892278</td>\n",
       "      <td>-87.612043</td>\n",
       "      <td>0</td>\n",
       "      <td>8</td>\n",
       "      <td>2013</td>\n",
       "      <td>Monday</td>\n",
       "      <td>5</td>\n",
       "      <td>1</td>\n",
       "      <td>Summer</td>\n",
       "      <td>0</td>\n",
       "      <td>Overcast</td>\n",
       "      <td>0.63</td>\n",
       "      <td>72.11</td>\n",
       "    </tr>\n",
       "    <tr>\n",
       "      <th>1</th>\n",
       "      <td>2013-08-05</td>\n",
       "      <td>17</td>\n",
       "      <td>35</td>\n",
       "      <td>9</td>\n",
       "      <td>Streeter Dr &amp; Grand Ave</td>\n",
       "      <td>41.892278</td>\n",
       "      <td>-87.612043</td>\n",
       "      <td>0</td>\n",
       "      <td>8</td>\n",
       "      <td>2013</td>\n",
       "      <td>Monday</td>\n",
       "      <td>5</td>\n",
       "      <td>1</td>\n",
       "      <td>Summer</td>\n",
       "      <td>0</td>\n",
       "      <td>Clear</td>\n",
       "      <td>0.69</td>\n",
       "      <td>70.54</td>\n",
       "    </tr>\n",
       "    <tr>\n",
       "      <th>2</th>\n",
       "      <td>2013-08-05</td>\n",
       "      <td>18</td>\n",
       "      <td>35</td>\n",
       "      <td>6</td>\n",
       "      <td>Streeter Dr &amp; Grand Ave</td>\n",
       "      <td>41.892278</td>\n",
       "      <td>-87.612043</td>\n",
       "      <td>0</td>\n",
       "      <td>8</td>\n",
       "      <td>2013</td>\n",
       "      <td>Monday</td>\n",
       "      <td>5</td>\n",
       "      <td>1</td>\n",
       "      <td>Summer</td>\n",
       "      <td>0</td>\n",
       "      <td>Clear</td>\n",
       "      <td>0.72</td>\n",
       "      <td>69.21</td>\n",
       "    </tr>\n",
       "    <tr>\n",
       "      <th>3</th>\n",
       "      <td>2013-08-05</td>\n",
       "      <td>19</td>\n",
       "      <td>35</td>\n",
       "      <td>12</td>\n",
       "      <td>Streeter Dr &amp; Grand Ave</td>\n",
       "      <td>41.892278</td>\n",
       "      <td>-87.612043</td>\n",
       "      <td>0</td>\n",
       "      <td>8</td>\n",
       "      <td>2013</td>\n",
       "      <td>Monday</td>\n",
       "      <td>5</td>\n",
       "      <td>1</td>\n",
       "      <td>Summer</td>\n",
       "      <td>0</td>\n",
       "      <td>Mostly Cloudy</td>\n",
       "      <td>0.74</td>\n",
       "      <td>69.06</td>\n",
       "    </tr>\n",
       "    <tr>\n",
       "      <th>4</th>\n",
       "      <td>2013-08-05</td>\n",
       "      <td>20</td>\n",
       "      <td>35</td>\n",
       "      <td>4</td>\n",
       "      <td>Streeter Dr &amp; Grand Ave</td>\n",
       "      <td>41.892278</td>\n",
       "      <td>-87.612043</td>\n",
       "      <td>0</td>\n",
       "      <td>8</td>\n",
       "      <td>2013</td>\n",
       "      <td>Monday</td>\n",
       "      <td>5</td>\n",
       "      <td>1</td>\n",
       "      <td>Summer</td>\n",
       "      <td>0</td>\n",
       "      <td>Clear</td>\n",
       "      <td>0.73</td>\n",
       "      <td>69.17</td>\n",
       "    </tr>\n",
       "  </tbody>\n",
       "</table>\n",
       "</div>"
      ],
      "text/plain": [
       "    startday  starthour  from_station_id  num_trips        from_station_name  \\\n",
       "0 2013-08-05         16               35         11  Streeter Dr & Grand Ave   \n",
       "1 2013-08-05         17               35          9  Streeter Dr & Grand Ave   \n",
       "2 2013-08-05         18               35          6  Streeter Dr & Grand Ave   \n",
       "3 2013-08-05         19               35         12  Streeter Dr & Grand Ave   \n",
       "4 2013-08-05         20               35          4  Streeter Dr & Grand Ave   \n",
       "\n",
       "   from_station_latitude  from_station_longitude  day  month  year day_name  \\\n",
       "0              41.892278              -87.612043    0      8  2013   Monday   \n",
       "1              41.892278              -87.612043    0      8  2013   Monday   \n",
       "2              41.892278              -87.612043    0      8  2013   Monday   \n",
       "3              41.892278              -87.612043    0      8  2013   Monday   \n",
       "4              41.892278              -87.612043    0      8  2013   Monday   \n",
       "\n",
       "   tripdate  season seasons_name  IsHoliday        weather  humidity  \\\n",
       "0         5       1       Summer          0       Overcast      0.63   \n",
       "1         5       1       Summer          0          Clear      0.69   \n",
       "2         5       1       Summer          0          Clear      0.72   \n",
       "3         5       1       Summer          0  Mostly Cloudy      0.74   \n",
       "4         5       1       Summer          0          Clear      0.73   \n",
       "\n",
       "   temperature  \n",
       "0        72.11  \n",
       "1        70.54  \n",
       "2        69.21  \n",
       "3        69.06  \n",
       "4        69.17  "
      ]
     },
     "execution_count": 18,
     "metadata": {},
     "output_type": "execute_result"
    }
   ],
   "source": [
    "#Weather data\n",
    "wt = pd.read_csv(\"C:\\\\Users\\\\arun.bhardwaj\\\\Desktop\\\\MyOrdner\\\\DALab\\\\weatherData.csv\")\n",
    "wt.startday =  pd.to_datetime(wt.startday, errors=\"coerce\")\n",
    "\n",
    "resultData = pd.merge(hourly, wt, on=['startday', 'starthour'])\n",
    "resultData.head()"
   ]
  },
  {
   "cell_type": "code",
   "execution_count": 35,
   "metadata": {
    "collapsed": true
   },
   "outputs": [],
   "source": [
    "#define numeric value for weather\n",
    "#1. 'Clear', 'Partly Cloudy', 'Humid','Humid and Partly Cloudy',\n",
    "#2. 'Mostly Cloudy',  'Humid and Mostly Cloudy', 'Possible Light Rain', \n",
    "#3. 'Overcast', 'Breezy', 'Breezy and Mostly Cloudy','Breezy and Partly Cloudy', 'Possible Light Snow and Breezy', \n",
    "#'Possible Light Snow', 'Breezy and Humid', 'Snow','Possible Light Rain and Breezy', 'Light Rain and Windy'\n",
    "#4. 'rain', Heavy Rain, 'Heavy Snow and Breezy', 'Foggy',  \n",
    "\n",
    "def weatherCode(weather):\n",
    "    if((weather == 'Clear') or (weather == 'Humid') or (weather.find(\"Partly Cloudy\") > -1 )):\n",
    "        return 1\n",
    "    elif((weather == \"Rain\") or (weather == \"Heavy Rain\") or (weather == \"Heavy Snow and Breezy\")\n",
    "        or (weather == \"Foggy\")):\n",
    "        return 4\n",
    "    elif((weather.find(\"Mostly Cloudy\") > -1) or (weather == \"Possible Light Rain\")):\n",
    "        return 2    \n",
    "    else:\n",
    "        return 3\n",
    "\n",
    "resultData[\"weatherCode\"] = resultData.weather.apply(weatherCode)\n"
   ]
  },
  {
   "cell_type": "code",
   "execution_count": 28,
   "metadata": {
    "collapsed": false
   },
   "outputs": [
    {
     "data": {
      "text/plain": [
       "<matplotlib.axes._subplots.AxesSubplot at 0x178264fc358>"
      ]
     },
     "execution_count": 28,
     "metadata": {},
     "output_type": "execute_result"
    },
    {
     "data": {
      "image/png": "[encoded data removed]",
      "text/plain": [
       "<matplotlib.figure.Figure at 0x17825d506d8>"
      ]
     },
     "metadata": {},
     "output_type": "display_data"
    }
   ],
   "source": [
    "#at from_station_id=35\n",
    "fig, axes = plt.subplots(nrows=2, ncols=2)\n",
    "fig.set_size_inches(12, 10)\n",
    "sns.boxplot(data=resultData, y=\"num_trips\", x=\"seasons_name\",orient=\"v\",ax=axes[0][0])\n",
    "sns.boxplot(data=resultData, y=\"num_trips\", x=\"starthour\",orient=\"v\",ax=axes[0][1])\n",
    "sns.boxplot(data=resultData, y=\"num_trips\", x=\"IsHoliday\", orient=\"v\",ax=axes[1][0])\n",
    "sns.boxplot(data=resultData, y=\"num_trips\", x=\"month\",orient=\"v\",ax=axes[1][1])"
   ]
  },
  {
   "cell_type": "code",
   "execution_count": 36,
   "metadata": {
    "collapsed": false
   },
   "outputs": [
    {
     "data": {
      "text/plain": [
       "startday                  datetime64[ns]\n",
       "starthour                       category\n",
       "from_station_id                 category\n",
       "num_trips                          int64\n",
       "from_station_name               category\n",
       "from_station_latitude            float64\n",
       "from_station_longitude           float64\n",
       "day                             category\n",
       "month                           category\n",
       "year                            category\n",
       "day_name                        category\n",
       "tripdate                           int32\n",
       "season                          category\n",
       "seasons_name                    category\n",
       "IsHoliday                       category\n",
       "weather                         category\n",
       "humidity                         float64\n",
       "temperature                      float64\n",
       "weatherCode                     category\n",
       "dtype: object"
      ]
     },
     "execution_count": 36,
     "metadata": {},
     "output_type": "execute_result"
    }
   ],
   "source": [
    "#Categorize variables\n",
    "categoricalVariables = [\"from_station_id\",\"from_station_name\",\"month\", \"year\", \"season\", \"seasons_name\", \"IsHoliday\",\n",
    "                       \"weather\", \"weatherCode\", \"day_name\", \"day\", \"starthour\"]\n",
    "for var in categoricalVariables:\n",
    "    resultData[var] = resultData[var].astype(\"category\")\n",
    "\n",
    "resultData.dtypes\n"
   ]
  },
  {
   "cell_type": "code",
   "execution_count": 31,
   "metadata": {
    "collapsed": false
   },
   "outputs": [
    {
     "name": "stdout",
     "output_type": "stream",
     "text": [
      "Before Ouliers removal:  (18224, 18)\n",
      "After Ouliers removal:  (17851, 18)\n"
     ]
    }
   ],
   "source": [
    "#Outlier are present, will check with model, how model is better without outliers\n",
    "resultDataWithoutOutliers = resultData[np.abs(resultData[\"num_trips\"]-resultData[\"num_trips\"].mean())<=(3*resultData[\"num_trips\"].std())]\n",
    "\n",
    "print(\"Before Ouliers removal: \",resultData.shape)\n",
    "print(\"After Ouliers removal: \",resultDataWithoutOutliers.shape)\n"
   ]
  },
  {
   "cell_type": "code",
   "execution_count": 41,
   "metadata": {
    "collapsed": false
   },
   "outputs": [
    {
     "data": {
      "text/html": [
       "<div>\n",
       "<table border=\"1\" class=\"dataframe\">\n",
       "  <thead>\n",
       "    <tr style=\"text-align: right;\">\n",
       "      <th></th>\n",
       "      <th>num_trips</th>\n",
       "      <th>humidity</th>\n",
       "      <th>temperature</th>\n",
       "    </tr>\n",
       "  </thead>\n",
       "  <tbody>\n",
       "    <tr>\n",
       "      <th>num_trips</th>\n",
       "      <td>1.000000</td>\n",
       "      <td>-0.369624</td>\n",
       "      <td>0.490936</td>\n",
       "    </tr>\n",
       "    <tr>\n",
       "      <th>humidity</th>\n",
       "      <td>-0.369624</td>\n",
       "      <td>1.000000</td>\n",
       "      <td>-0.115452</td>\n",
       "    </tr>\n",
       "    <tr>\n",
       "      <th>temperature</th>\n",
       "      <td>0.490936</td>\n",
       "      <td>-0.115452</td>\n",
       "      <td>1.000000</td>\n",
       "    </tr>\n",
       "  </tbody>\n",
       "</table>\n",
       "</div>"
      ],
      "text/plain": [
       "             num_trips  humidity  temperature\n",
       "num_trips     1.000000 -0.369624     0.490936\n",
       "humidity     -0.369624  1.000000    -0.115452\n",
       "temperature   0.490936 -0.115452     1.000000"
      ]
     },
     "execution_count": 41,
     "metadata": {},
     "output_type": "execute_result"
    }
   ],
   "source": [
    "#Correlation Analysis\n",
    "\n",
    "#X = resultData.drop(['startday','from_station_longitude', 'from_station_name', 'from_station_id', 'seasons_name', \n",
    "                     #'from_station_latitude', 'weather', 'day_name', 'weatherCode'], axis=1)\n",
    "\n",
    "\n",
    "\n",
    "X = resultData[['num_trips', 'humidity', 'temperature']]\n",
    "\n",
    "X.head()\n",
    "X.corr()"
   ]
  },
  {
   "cell_type": "code",
   "execution_count": null,
   "metadata": {
    "collapsed": true
   },
   "outputs": [],
   "source": [
    "#Visulization of data for season, holidays, weekday\n",
    "\n"
   ]
  }
 ],
 "metadata": {
  "kernelspec": {
   "display_name": "Python 3",
   "language": "python",
   "name": "python3"
  },
  "language_info": {
   "codemirror_mode": {
    "name": "ipython",
    "version": 3
   },
   "file_extension": ".py",
   "mimetype": "text/x-python",
   "name": "python",
   "nbconvert_exporter": "python",
   "pygments_lexer": "ipython3",
   "version": "3.6.0"
  }
 },
 "nbformat": 4,
 "nbformat_minor": 2
}
