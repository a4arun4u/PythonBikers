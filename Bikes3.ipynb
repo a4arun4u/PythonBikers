{
 "cells": [
  {
   "cell_type": "code",
   "execution_count": 3,
   "metadata": {
    "collapsed": true
   },
   "outputs": [],
   "source": [
    "import pandas as pd\n",
    "import matplotlib.pyplot as plt\n",
    "%matplotlib inline"
   ]
  },
  {
   "cell_type": "code",
   "execution_count": 4,
   "metadata": {
    "collapsed": false
   },
   "outputs": [],
   "source": [
    "hourlyData = pd.read_csv(\"C:\\\\Users\\\\arun.bhardwaj\\\\Desktop\\\\MyOrdner\\\\DALab\\\\resultData.csv\")"
   ]
  },
  {
   "cell_type": "code",
   "execution_count": 16,
   "metadata": {
    "collapsed": false
   },
   "outputs": [],
   "source": [
    "hourlyData = hourlyData.drop(hourlyData.columns[0], axis=1)"
   ]
  },
  {
   "cell_type": "code",
   "execution_count": 17,
   "metadata": {
    "collapsed": false
   },
   "outputs": [
    {
     "data": {
      "text/html": [
       "<div>\n",
       "<table border=\"1\" class=\"dataframe\">\n",
       "  <thead>\n",
       "    <tr style=\"text-align: right;\">\n",
       "      <th></th>\n",
       "      <th>startday</th>\n",
       "      <th>starthour</th>\n",
       "      <th>from_station_id</th>\n",
       "      <th>num_trips</th>\n",
       "      <th>from_station_name</th>\n",
       "      <th>from_station_latitude</th>\n",
       "      <th>from_station_longitude</th>\n",
       "      <th>day</th>\n",
       "      <th>month</th>\n",
       "      <th>year</th>\n",
       "      <th>day_name</th>\n",
       "      <th>tripdate</th>\n",
       "      <th>season</th>\n",
       "      <th>seasons_name</th>\n",
       "      <th>IsHoliday</th>\n",
       "      <th>weather</th>\n",
       "      <th>humidity</th>\n",
       "      <th>temperature</th>\n",
       "    </tr>\n",
       "  </thead>\n",
       "  <tbody>\n",
       "    <tr>\n",
       "      <th>0</th>\n",
       "      <td>2013-06-27</td>\n",
       "      <td>1</td>\n",
       "      <td>91</td>\n",
       "      <td>1</td>\n",
       "      <td>Clinton St &amp; Washington Blvd</td>\n",
       "      <td>41.883380</td>\n",
       "      <td>-87.641170</td>\n",
       "      <td>3</td>\n",
       "      <td>6</td>\n",
       "      <td>2013</td>\n",
       "      <td>Thursday</td>\n",
       "      <td>27</td>\n",
       "      <td>1</td>\n",
       "      <td>Summer</td>\n",
       "      <td>0</td>\n",
       "      <td>Clear</td>\n",
       "      <td>0.86</td>\n",
       "      <td>66.22</td>\n",
       "    </tr>\n",
       "    <tr>\n",
       "      <th>1</th>\n",
       "      <td>2013-06-27</td>\n",
       "      <td>11</td>\n",
       "      <td>17</td>\n",
       "      <td>1</td>\n",
       "      <td>Wood St &amp; Division St</td>\n",
       "      <td>41.903320</td>\n",
       "      <td>-87.672730</td>\n",
       "      <td>3</td>\n",
       "      <td>6</td>\n",
       "      <td>2013</td>\n",
       "      <td>Thursday</td>\n",
       "      <td>27</td>\n",
       "      <td>1</td>\n",
       "      <td>Summer</td>\n",
       "      <td>0</td>\n",
       "      <td>Partly Cloudy</td>\n",
       "      <td>0.66</td>\n",
       "      <td>76.28</td>\n",
       "    </tr>\n",
       "    <tr>\n",
       "      <th>2</th>\n",
       "      <td>2013-06-27</td>\n",
       "      <td>11</td>\n",
       "      <td>88</td>\n",
       "      <td>3</td>\n",
       "      <td>Racine Ave &amp; Randolph St</td>\n",
       "      <td>41.884069</td>\n",
       "      <td>-87.656853</td>\n",
       "      <td>3</td>\n",
       "      <td>6</td>\n",
       "      <td>2013</td>\n",
       "      <td>Thursday</td>\n",
       "      <td>27</td>\n",
       "      <td>1</td>\n",
       "      <td>Summer</td>\n",
       "      <td>0</td>\n",
       "      <td>Partly Cloudy</td>\n",
       "      <td>0.66</td>\n",
       "      <td>76.28</td>\n",
       "    </tr>\n",
       "    <tr>\n",
       "      <th>3</th>\n",
       "      <td>2013-06-27</td>\n",
       "      <td>12</td>\n",
       "      <td>28</td>\n",
       "      <td>1</td>\n",
       "      <td>Larrabee St &amp; Menomonee St</td>\n",
       "      <td>41.914680</td>\n",
       "      <td>-87.643320</td>\n",
       "      <td>3</td>\n",
       "      <td>6</td>\n",
       "      <td>2013</td>\n",
       "      <td>Thursday</td>\n",
       "      <td>27</td>\n",
       "      <td>1</td>\n",
       "      <td>Summer</td>\n",
       "      <td>0</td>\n",
       "      <td>Clear</td>\n",
       "      <td>0.58</td>\n",
       "      <td>78.49</td>\n",
       "    </tr>\n",
       "    <tr>\n",
       "      <th>4</th>\n",
       "      <td>2013-06-27</td>\n",
       "      <td>12</td>\n",
       "      <td>85</td>\n",
       "      <td>2</td>\n",
       "      <td>Michigan Ave &amp; Oak St</td>\n",
       "      <td>41.900960</td>\n",
       "      <td>-87.623777</td>\n",
       "      <td>3</td>\n",
       "      <td>6</td>\n",
       "      <td>2013</td>\n",
       "      <td>Thursday</td>\n",
       "      <td>27</td>\n",
       "      <td>1</td>\n",
       "      <td>Summer</td>\n",
       "      <td>0</td>\n",
       "      <td>Clear</td>\n",
       "      <td>0.58</td>\n",
       "      <td>78.49</td>\n",
       "    </tr>\n",
       "  </tbody>\n",
       "</table>\n",
       "</div>"
      ],
      "text/plain": [
       "     startday  starthour  from_station_id  num_trips  \\\n",
       "0  2013-06-27          1               91          1   \n",
       "1  2013-06-27         11               17          1   \n",
       "2  2013-06-27         11               88          3   \n",
       "3  2013-06-27         12               28          1   \n",
       "4  2013-06-27         12               85          2   \n",
       "\n",
       "              from_station_name  from_station_latitude  \\\n",
       "0  Clinton St & Washington Blvd              41.883380   \n",
       "1         Wood St & Division St              41.903320   \n",
       "2      Racine Ave & Randolph St              41.884069   \n",
       "3    Larrabee St & Menomonee St              41.914680   \n",
       "4         Michigan Ave & Oak St              41.900960   \n",
       "\n",
       "   from_station_longitude  day  month  year  day_name  tripdate  season  \\\n",
       "0              -87.641170    3      6  2013  Thursday        27       1   \n",
       "1              -87.672730    3      6  2013  Thursday        27       1   \n",
       "2              -87.656853    3      6  2013  Thursday        27       1   \n",
       "3              -87.643320    3      6  2013  Thursday        27       1   \n",
       "4              -87.623777    3      6  2013  Thursday        27       1   \n",
       "\n",
       "  seasons_name  IsHoliday        weather  humidity  temperature  \n",
       "0       Summer          0          Clear      0.86        66.22  \n",
       "1       Summer          0  Partly Cloudy      0.66        76.28  \n",
       "2       Summer          0  Partly Cloudy      0.66        76.28  \n",
       "3       Summer          0          Clear      0.58        78.49  \n",
       "4       Summer          0          Clear      0.58        78.49  "
      ]
     },
     "execution_count": 17,
     "metadata": {},
     "output_type": "execute_result"
    }
   ],
   "source": [
    "hourlyData.head()"
   ]
  },
  {
   "cell_type": "code",
   "execution_count": 19,
   "metadata": {
    "collapsed": false
   },
   "outputs": [
    {
     "data": {
      "text/plain": [
       "startday                  datetime64[ns]\n",
       "starthour                          int64\n",
       "from_station_id                 category\n",
       "num_trips                          int64\n",
       "from_station_name               category\n",
       "from_station_latitude            float64\n",
       "from_station_longitude           float64\n",
       "day                                int64\n",
       "month                           category\n",
       "year                            category\n",
       "day_name                          object\n",
       "tripdate                           int64\n",
       "season                          category\n",
       "seasons_name                    category\n",
       "IsHoliday                       category\n",
       "weather                         category\n",
       "humidity                         float64\n",
       "temperature                      float64\n",
       "dtype: object"
      ]
     },
     "execution_count": 19,
     "metadata": {},
     "output_type": "execute_result"
    }
   ],
   "source": [
    "#converting datatype\n",
    "hourlyData.startday =  pd.to_datetime(hourlyData.startday, errors=\"coerce\")\n",
    "\n",
    "categoricalVariables = [\"from_station_id\",\"from_station_name\",\"month\", \"year\", \"season\", \"seasons_name\", \"IsHoliday\",\n",
    "                       \"weather\"]\n",
    "for var in categoricalVariables:\n",
    "    hourlyData[var] = hourlyData[var].astype(\"category\")\n",
    "\n",
    "hourlyData.dtypes"
   ]
  },
  {
   "cell_type": "code",
   "execution_count": 21,
   "metadata": {
    "collapsed": false
   },
   "outputs": [
    {
     "data": {
      "image/png": "[encoded data removed]",
      "text/plain": [
       "<matplotlib.figure.Figure at 0x1823f77b588>"
      ]
     },
     "metadata": {},
     "output_type": "display_data"
    },
    {
     "data": {
      "image/png": "[encoded data removed]",
      "text/plain": [
       "<matplotlib.figure.Figure at 0x1823efbf668>"
      ]
     },
     "metadata": {},
     "output_type": "display_data"
    }
   ],
   "source": [
    "import seaborn as sns\n",
    "\n",
    "X = hourlyData.drop(['startday',  'from_station_longitude', 'from_station_name', 'seasons_name', 'from_station_latitude'], axis=1)\n",
    "\n",
    "sns.heatmap(X.corr())\n",
    "\n",
    "grid = sns.FacetGrid(hourlyData, col = 'seasons_name', row = 'IsHoliday')\n",
    "grid.map(plt.scatter, 'num_trips', 'month', alpha = 0.5)\n",
    "grid.add_legend();\n"
   ]
  },
  {
   "cell_type": "code",
   "execution_count": 22,
   "metadata": {
    "collapsed": false
   },
   "outputs": [
    {
     "data": {
      "text/html": [
       "<div>\n",
       "<table border=\"1\" class=\"dataframe\">\n",
       "  <thead>\n",
       "    <tr style=\"text-align: right;\">\n",
       "      <th></th>\n",
       "      <th>starthour</th>\n",
       "      <th>num_trips</th>\n",
       "      <th>day</th>\n",
       "      <th>tripdate</th>\n",
       "      <th>humidity</th>\n",
       "      <th>temperature</th>\n",
       "    </tr>\n",
       "  </thead>\n",
       "  <tbody>\n",
       "    <tr>\n",
       "      <th>starthour</th>\n",
       "      <td>1.000000</td>\n",
       "      <td>0.057701</td>\n",
       "      <td>0.003357</td>\n",
       "      <td>-0.003104</td>\n",
       "      <td>-0.265934</td>\n",
       "      <td>0.106438</td>\n",
       "    </tr>\n",
       "    <tr>\n",
       "      <th>num_trips</th>\n",
       "      <td>0.057701</td>\n",
       "      <td>1.000000</td>\n",
       "      <td>0.021315</td>\n",
       "      <td>0.000930</td>\n",
       "      <td>-0.118563</td>\n",
       "      <td>0.185459</td>\n",
       "    </tr>\n",
       "    <tr>\n",
       "      <th>day</th>\n",
       "      <td>0.003357</td>\n",
       "      <td>0.021315</td>\n",
       "      <td>1.000000</td>\n",
       "      <td>-0.003349</td>\n",
       "      <td>-0.079831</td>\n",
       "      <td>0.035702</td>\n",
       "    </tr>\n",
       "    <tr>\n",
       "      <th>tripdate</th>\n",
       "      <td>-0.003104</td>\n",
       "      <td>0.000930</td>\n",
       "      <td>-0.003349</td>\n",
       "      <td>1.000000</td>\n",
       "      <td>0.049811</td>\n",
       "      <td>0.018414</td>\n",
       "    </tr>\n",
       "    <tr>\n",
       "      <th>humidity</th>\n",
       "      <td>-0.265934</td>\n",
       "      <td>-0.118563</td>\n",
       "      <td>-0.079831</td>\n",
       "      <td>0.049811</td>\n",
       "      <td>1.000000</td>\n",
       "      <td>-0.165816</td>\n",
       "    </tr>\n",
       "    <tr>\n",
       "      <th>temperature</th>\n",
       "      <td>0.106438</td>\n",
       "      <td>0.185459</td>\n",
       "      <td>0.035702</td>\n",
       "      <td>0.018414</td>\n",
       "      <td>-0.165816</td>\n",
       "      <td>1.000000</td>\n",
       "    </tr>\n",
       "  </tbody>\n",
       "</table>\n",
       "</div>"
      ],
      "text/plain": [
       "             starthour  num_trips       day  tripdate  humidity  temperature\n",
       "starthour     1.000000   0.057701  0.003357 -0.003104 -0.265934     0.106438\n",
       "num_trips     0.057701   1.000000  0.021315  0.000930 -0.118563     0.185459\n",
       "day           0.003357   0.021315  1.000000 -0.003349 -0.079831     0.035702\n",
       "tripdate     -0.003104   0.000930 -0.003349  1.000000  0.049811     0.018414\n",
       "humidity     -0.265934  -0.118563 -0.079831  0.049811  1.000000    -0.165816\n",
       "temperature   0.106438   0.185459  0.035702  0.018414 -0.165816     1.000000"
      ]
     },
     "execution_count": 22,
     "metadata": {},
     "output_type": "execute_result"
    }
   ],
   "source": [
    "X.corr()"
   ]
  }
 ],
 "metadata": {
  "kernelspec": {
   "display_name": "Python 3",
   "language": "python",
   "name": "python3"
  },
  "language_info": {
   "codemirror_mode": {
    "name": "ipython",
    "version": 3
   },
   "file_extension": ".py",
   "mimetype": "text/x-python",
   "name": "python",
   "nbconvert_exporter": "python",
   "pygments_lexer": "ipython3",
   "version": "3.6.0"
  }
 },
 "nbformat": 4,
 "nbformat_minor": 2
}
